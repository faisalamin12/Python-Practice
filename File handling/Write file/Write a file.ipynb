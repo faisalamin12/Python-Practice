{
 "cells": [
  {
   "cell_type": "markdown",
   "metadata": {},
   "source": [
    "# Write in file"
   ]
  },
  {
   "cell_type": "code",
   "execution_count": 3,
   "metadata": {},
   "outputs": [],
   "source": [
    "# to write a file first we write file name then mode like r for read w for write etc\n",
    "f1 = open(\"example1.txt\" , \"w\")\n",
    "# after open we can write any this with this command\n",
    "f1.write(\"Hello world!\") \n",
    "# After write dont forget to close the file \n",
    "f1.close()\n"
   ]
  },
  {
   "cell_type": "code",
   "execution_count": null,
   "metadata": {},
   "outputs": [],
   "source": [
    "f1 = open(\"example1.txt\" , \"w\")\n",
    "f1.write(\"My first file\")\n",
    "f1.close()"
   ]
  },
  {
   "cell_type": "code",
   "execution_count": null,
   "metadata": {},
   "outputs": [],
   "source": [
    "f1 = open(\"example2.txt\" , \"w\")\n",
    "f1.write(\"File title: Example 2\")\n",
    "f1.close()"
   ]
  },
  {
   "cell_type": "code",
   "execution_count": null,
   "metadata": {},
   "outputs": [],
   "source": [
    "# File handling by user input\n",
    "a = input(\"For read a file pree r and for write press w: \")\n",
    "list1 =  [\"example1.txt\" , \"example2.txt\"]\n",
    "if a == \"r\":\n",
    "    print(list1)\n",
    "    print(\"Which file do you want to read\")\n",
    "    b = input(\"Write file name:\")\n",
    "    for i in list1:\n",
    "        if i == b:\n",
    "            f1 = open(b , a)\n",
    "            print(f1.read())\n",
    "            break\n",
    "        else:\n",
    "            print(\"File not found\")\n",
    "            break\n",
    "elif a == \"w\":\n",
    "    x = input(\"Write file name\")\n",
    "    f2 = open(x , \"w\")\n",
    "    abc = input(\"Enter your text\")\n",
    "    f2.write(abc)\n",
    "    list1.append(x)\n",
    "    f2.close()\n",
    "    print(\"Done !\")\n",
    "    print(\"Your file has been included. Updated list of file:\",list1)"
   ]
  }
 ],
 "metadata": {
  "kernelspec": {
   "display_name": "Python 3",
   "language": "python",
   "name": "python3"
  },
  "language_info": {
   "codemirror_mode": {
    "name": "ipython",
    "version": 3
   },
   "file_extension": ".py",
   "mimetype": "text/x-python",
   "name": "python",
   "nbconvert_exporter": "python",
   "pygments_lexer": "ipython3",
   "version": "3.7.3"
  }
 },
 "nbformat": 4,
 "nbformat_minor": 2
}
