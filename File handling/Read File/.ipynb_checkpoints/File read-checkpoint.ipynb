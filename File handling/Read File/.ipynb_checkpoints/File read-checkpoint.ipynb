{
 "cells": [
  {
   "cell_type": "markdown",
   "metadata": {},
   "source": [
    "#  File Handling"
   ]
  },
  {
   "cell_type": "markdown",
   "metadata": {},
   "source": [
    "# Read File"
   ]
  },
  {
   "cell_type": "code",
   "execution_count": 22,
   "metadata": {},
   "outputs": [],
   "source": [
    "# f variable pointing the file\n",
    "\n",
    "\n",
    "f = open(\"abc\", \"r\")"
   ]
  },
  {
   "cell_type": "code",
   "execution_count": 23,
   "metadata": {},
   "outputs": [
    {
     "name": "stdout",
     "output_type": "stream",
     "text": [
      "1st file\n"
     ]
    }
   ],
   "source": [
    "# If you want to showthe text\n",
    "print(f.read())"
   ]
  },
  {
   "cell_type": "code",
   "execution_count": 24,
   "metadata": {},
   "outputs": [
    {
     "name": "stdout",
     "output_type": "stream",
     "text": [
      "\n"
     ]
    }
   ],
   "source": [
    "# If you want to read a file line by line\n",
    "print(f.readline())"
   ]
  },
  {
   "cell_type": "code",
   "execution_count": 25,
   "metadata": {},
   "outputs": [],
   "source": [
    "# Read file by loop\n",
    "for line in f:\n",
    "    print(line)"
   ]
  },
  {
   "cell_type": "code",
   "execution_count": 34,
   "metadata": {},
   "outputs": [
    {
     "name": "stdout",
     "output_type": "stream",
     "text": [
      "Enter file name: abc\n",
      "write r for read: r\n",
      "The text is:  1st file\n"
     ]
    }
   ],
   "source": [
    "# Read file by user input\n",
    "a = input(\"Enter file name: \")\n",
    "b = input(\"write r for read: \")\n",
    "if b.lower() == \"r\":\n",
    "    f = open(a , b)\n",
    "    print(\"The text is: \",f.read())\n",
    "else:\n",
    "    print(\"Invalid Input\")\n",
    "\n"
   ]
  },
  {
   "cell_type": "code",
   "execution_count": 21,
   "metadata": {},
   "outputs": [
    {
     "name": "stdout",
     "output_type": "stream",
     "text": [
      "Enter file name: abc\n",
      "1st file\n"
     ]
    }
   ],
   "source": [
    "# Read file user friendly\n",
    "list1 = [\"abc\", \"xyz.txt\"]\n",
    "a = input(\"Enter file name: \")\n",
    "for i in list1:\n",
    "    if a == i:\n",
    "        f = open(a , \"r\")\n",
    "        print(f.read())\n",
    "        break\n",
    "    else:\n",
    "        print(\"Invalid Input\")\n",
    "        break"
   ]
  }
 ],
 "metadata": {
  "kernelspec": {
   "display_name": "Python 3",
   "language": "python",
   "name": "python3"
  },
  "language_info": {
   "codemirror_mode": {
    "name": "ipython",
    "version": 3
   },
   "file_extension": ".py",
   "mimetype": "text/x-python",
   "name": "python",
   "nbconvert_exporter": "python",
   "pygments_lexer": "ipython3",
   "version": "3.7.3"
  }
 },
 "nbformat": 4,
 "nbformat_minor": 2
}
