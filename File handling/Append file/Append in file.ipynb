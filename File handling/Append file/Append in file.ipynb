{
 "cells": [
  {
   "cell_type": "markdown",
   "metadata": {},
   "source": [
    "# Append in file"
   ]
  },
  {
   "cell_type": "code",
   "execution_count": null,
   "metadata": {},
   "outputs": [],
   "source": [
    "f1 = open(\"abc\" , \"w\")\n",
    "f1.write(\"Hello world!\")\n",
    "f1.close()"
   ]
  },
  {
   "cell_type": "code",
   "execution_count": 7,
   "metadata": {},
   "outputs": [],
   "source": [
    "# If we want add some data in abc file you think that we can write f1.write() and add something so lets check this!\n",
    "f1 = open(\"abc\" , \"w\")\n",
    "f1.write(\" Text of first file\")\n",
    "f1.close()"
   ]
  },
  {
   "cell_type": "code",
   "execution_count": 8,
   "metadata": {},
   "outputs": [],
   "source": [
    "# You can see that after execute write command it doesnot add data but override the data\n",
    "# then what is a way to add the data\n",
    "# we can use append command to add some text\n",
    "# Lets try this...\n",
    "\n",
    "f1 = open(\"abc\" , \"a\") # At this time we can use \"a\" at the place of \"w\"\n",
    "f1.write(\" After append data\") \n",
    "f1.close()"
   ]
  }
 ],
 "metadata": {
  "kernelspec": {
   "display_name": "Python 3",
   "language": "python",
   "name": "python3"
  },
  "language_info": {
   "codemirror_mode": {
    "name": "ipython",
    "version": 3
   },
   "file_extension": ".py",
   "mimetype": "text/x-python",
   "name": "python",
   "nbconvert_exporter": "python",
   "pygments_lexer": "ipython3",
   "version": "3.7.3"
  }
 },
 "nbformat": 4,
 "nbformat_minor": 2
}
