{
 "cells": [
  {
   "cell_type": "markdown",
   "metadata": {},
   "source": [
    "# Creating a dictionary that contains lists\n"
   ]
  },
  {
   "cell_type": "code",
   "execution_count": 25,
   "metadata": {},
   "outputs": [
    {
     "name": "stdout",
     "output_type": "stream",
     "text": [
      "['Finance', 'H.R', 'Marketing']\n"
     ]
    }
   ],
   "source": [
    "employees = {\n",
    "        \"First name\" : \"Salman\",\n",
    "        \"Last name\"  : \"Rafique\",\n",
    "        \"Department\" : [\"Finance\" , \"H.R\", \"Marketing\"]\n",
    "}\n",
    "print(employees[\"Department\"])"
   ]
  },
  {
   "cell_type": "markdown",
   "metadata": {},
   "source": [
    "# How to get information out of a list within a dictionary"
   ]
  },
  {
   "cell_type": "code",
   "execution_count": 28,
   "metadata": {},
   "outputs": [
    {
     "name": "stdout",
     "output_type": "stream",
     "text": [
      "Finance\n"
     ]
    }
   ],
   "source": [
    "if \"Finance\" in employees[\"Department\"]:\n",
    "    print(employees[\"Department\"][0])"
   ]
  },
  {
   "cell_type": "markdown",
   "metadata": {},
   "source": [
    "# Creating a dictionary that contains a dictionary\n"
   ]
  },
  {
   "cell_type": "code",
   "execution_count": 37,
   "metadata": {},
   "outputs": [
    {
     "name": "stdout",
     "output_type": "stream",
     "text": [
      "{0: {'First name': 'Faisal', 'Last name': ' Amin'}, 1: {'Fisrt name': 'Hussain', 'Last name': 'Sattar'}} \n",
      "\n",
      "\n",
      "\n"
     ]
    }
   ],
   "source": [
    "students = {\n",
    "    0: {\n",
    "        \"First name\" : \"Faisal\", \n",
    "        \"Last name\" : \" Amin\",\n",
    "    },\n",
    "    1: {\n",
    "        \"Fisrt name\" : \"Hussain\" ,\n",
    "        \"Last name\" : \"Sattar\",\n",
    "    },\n",
    "}\n",
    "print(students)\n"
   ]
  },
  {
   "cell_type": "markdown",
   "metadata": {},
   "source": [
    "# How to get information out of a dictionary within another dictionary"
   ]
  },
  {
   "cell_type": "code",
   "execution_count": 40,
   "metadata": {},
   "outputs": [
    {
     "name": "stdout",
     "output_type": "stream",
     "text": [
      "Faisal\n",
      " Amin\n",
      "Hussain\n",
      "Sattar\n"
     ]
    }
   ],
   "source": [
    "students = {\n",
    "    0: {\n",
    "        \"First name\" : \"Faisal\", \n",
    "        \"Last name\" : \" Amin\",\n",
    "    },\n",
    "    1: {\n",
    "        \"First name\" : \"Hussain\" ,\n",
    "        \"Last name\" : \"Sattar\",\n",
    "    },\n",
    "}\n",
    "print(students[0][\"First name\"])\n",
    "print(students[0][\"Last name\"])\n",
    "print(students[1][\"First name\"])\n",
    "print(students[1][\"Last name\"])\n"
   ]
  },
  {
   "cell_type": "code",
   "execution_count": null,
   "metadata": {},
   "outputs": [],
   "source": []
  }
 ],
 "metadata": {
  "kernelspec": {
   "display_name": "Python 3",
   "language": "python",
   "name": "python3"
  },
  "language_info": {
   "codemirror_mode": {
    "name": "ipython",
    "version": 3
   },
   "file_extension": ".py",
   "mimetype": "text/x-python",
   "name": "python",
   "nbconvert_exporter": "python",
   "pygments_lexer": "ipython3",
   "version": "3.7.3"
  }
 },
 "nbformat": 4,
 "nbformat_minor": 2
}
