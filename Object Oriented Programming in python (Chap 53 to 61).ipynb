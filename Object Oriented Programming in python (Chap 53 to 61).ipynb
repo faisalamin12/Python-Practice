{
 "cells": [
  {
   "cell_type": "markdown",
   "metadata": {},
   "source": [
    "# Class "
   ]
  },
  {
   "cell_type": "code",
   "execution_count": null,
   "metadata": {},
   "outputs": [],
   "source": [
    "class abc():  #Syntax"
   ]
  },
  {
   "cell_type": "markdown",
   "metadata": {},
   "source": [
    "# Attributes"
   ]
  },
  {
   "cell_type": "code",
   "execution_count": 4,
   "metadata": {},
   "outputs": [],
   "source": [
    " class abc():\n",
    "    def __init__(self , name , age) # constructor"
   ]
  },
  {
   "cell_type": "code",
   "execution_count": 5,
   "metadata": {},
   "outputs": [],
   "source": [
    "# name and age are attributes of class "
   ]
  },
  {
   "cell_type": "code",
   "execution_count": 6,
   "metadata": {},
   "outputs": [],
   "source": [
    "# constructor is a method which initialize the vale of attributes"
   ]
  },
  {
   "cell_type": "code",
   "execution_count": 8,
   "metadata": {},
   "outputs": [],
   "source": [
    "# self is word which allocates the place in memory\n",
    "# we can give any name to self like abc xyz etc"
   ]
  },
  {
   "cell_type": "markdown",
   "metadata": {},
   "source": [
    "# Methods"
   ]
  },
  {
   "cell_type": "code",
   "execution_count": 32,
   "metadata": {},
   "outputs": [],
   "source": [
    "# methods is just like functions "
   ]
  },
  {
   "cell_type": "markdown",
   "metadata": {},
   "source": [
    "# Lets Define an object"
   ]
  },
  {
   "cell_type": "code",
   "execution_count": 25,
   "metadata": {},
   "outputs": [
    {
     "name": "stdout",
     "output_type": "stream",
     "text": [
      "Method of class\n"
     ]
    }
   ],
   "source": [
    "class abc():\n",
    "    def __init__(self, name , age):\n",
    "        self.name = name\n",
    "        self.age = age\n",
    "    def xyz(self):\n",
    "        print(\"Method of class\")\n",
    "    \n",
    "obj1 = abc(\"faisal\",\"20\")\n",
    "obj1.name\n",
    "obj1.age\n",
    "obj1.xyz()"
   ]
  },
  {
   "cell_type": "code",
   "execution_count": 22,
   "metadata": {},
   "outputs": [
    {
     "data": {
      "text/plain": [
       "'Hammad'"
      ]
     },
     "execution_count": 22,
     "metadata": {},
     "output_type": "execute_result"
    }
   ],
   "source": [
    "obj1.name"
   ]
  },
  {
   "cell_type": "code",
   "execution_count": 23,
   "metadata": {},
   "outputs": [
    {
     "data": {
      "text/plain": [
       "'20'"
      ]
     },
     "execution_count": 23,
     "metadata": {},
     "output_type": "execute_result"
    }
   ],
   "source": [
    "obj1.age"
   ]
  },
  {
   "cell_type": "code",
   "execution_count": 24,
   "metadata": {},
   "outputs": [
    {
     "name": "stdout",
     "output_type": "stream",
     "text": [
      "Method of class\n"
     ]
    }
   ],
   "source": [
    "obj1.xyz()"
   ]
  },
  {
   "cell_type": "markdown",
   "metadata": {},
   "source": [
    "# Inheritace"
   ]
  },
  {
   "cell_type": "code",
   "execution_count": 26,
   "metadata": {},
   "outputs": [],
   "source": [
    "# Inheritance is one of the pillar of object oriented Programming"
   ]
  },
  {
   "cell_type": "code",
   "execution_count": 28,
   "metadata": {},
   "outputs": [],
   "source": [
    "class abc():\n",
    "    def __init__(self, name , age):\n",
    "        self.name = name\n",
    "        self.age = age\n",
    "    def dummy(self):\n",
    "        print(\"Parent method\")\n",
    "    \n",
    "a = abc(\"Faizan\" , 20)\n"
   ]
  },
  {
   "cell_type": "code",
   "execution_count": 31,
   "metadata": {},
   "outputs": [
    {
     "name": "stdout",
     "output_type": "stream",
     "text": [
      "Parent method\n"
     ]
    }
   ],
   "source": [
    "class xyz(abc):\n",
    "    def __init__(self , name , age , designation):\n",
    "        super().__init__(name , age)\n",
    "        self.designation = designation\n",
    "    \n",
    "b = xyz(\"hammad\" , 19 , \"CEO\")\n",
    "b.dummy()"
   ]
  },
  {
   "cell_type": "code",
   "execution_count": 34,
   "metadata": {},
   "outputs": [
    {
     "name": "stdout",
     "output_type": "stream",
     "text": [
      "Enter Yoyr name: hammad\n",
      "Enter your father name: amin\n",
      "Enter your age: 19\n",
      "hammad\n",
      "amin\n",
      "19\n"
     ]
    }
   ],
   "source": [
    "class Man():\n",
    "    def __init__(self , name , fathername, age):\n",
    "        self.name = name\n",
    "        self.fathername = fathername\n",
    "        self.age = age\n",
    "    def displayDetails(self):\n",
    "        print(self.name)\n",
    "        print(self.fathername)\n",
    "        print(self.age)\n",
    "    \n",
    "my_name = input(\"Enter Yoyr name: \")\n",
    "my_fname = input(\"Enter your father name: \")\n",
    "my_age = int(input(\"Enter your age: \"))\n",
    "a = Man(my_name , my_fname , my_age)\n",
    "a.displayDetails()"
   ]
  },
  {
   "cell_type": "markdown",
   "metadata": {},
   "source": [
    "# Encapsulation"
   ]
  },
  {
   "cell_type": "code",
   "execution_count": 42,
   "metadata": {},
   "outputs": [
    {
     "name": "stdout",
     "output_type": "stream",
     "text": [
      "Zebra\n",
      "Horse\n"
     ]
    }
   ],
   "source": [
    "class Animal():\n",
    "    def __init__(self , __name , __food):\n",
    "        self.__name = __name\n",
    "        self.__food = __food\n",
    "    def getValue(self):\n",
    "        print(self.__name)\n",
    "    \n",
    "    def setValue(self, __name):\n",
    "        self.__name = __name\n",
    "        \n",
    "\n",
    "        \n",
    "x = Animal(\"Zebra\" , \"Grass\")\n",
    "x.getValue()\n",
    "x.setValue(\"Horse\")\n",
    "x.getValue()"
   ]
  },
  {
   "cell_type": "code",
   "execution_count": null,
   "metadata": {},
   "outputs": [],
   "source": []
  }
 ],
 "metadata": {
  "kernelspec": {
   "display_name": "Python 3",
   "language": "python",
   "name": "python3"
  },
  "language_info": {
   "codemirror_mode": {
    "name": "ipython",
    "version": 3
   },
   "file_extension": ".py",
   "mimetype": "text/x-python",
   "name": "python",
   "nbconvert_exporter": "python",
   "pygments_lexer": "ipython3",
   "version": "3.7.3"
  }
 },
 "nbformat": 4,
 "nbformat_minor": 2
}
