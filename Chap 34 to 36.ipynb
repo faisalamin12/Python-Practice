{
 "cells": [
  {
   "cell_type": "markdown",
   "metadata": {},
   "source": [
    "# List Of Dictionaries"
   ]
  },
  {
   "cell_type": "code",
   "execution_count": 14,
   "metadata": {},
   "outputs": [
    {
     "name": "stdout",
     "output_type": "stream",
     "text": [
      "{'fisrtname': 'faisal', 'lastname': 'amin', 'course': 'Artificial Intellegence'}\n",
      "\n",
      "\n",
      "{'fisrtname': 'bilal', 'lastname': 'ashraf', 'course': 'Cloud Computing'}\n",
      "\n",
      "\n",
      "{'fisrtname': 'salman', 'lastname': 'rafique', 'course': 'Blockchain'}\n",
      "\n",
      "\n"
     ]
    }
   ],
   "source": [
    "students = [\n",
    "    {\n",
    "        \"fisrtname\" : \"faisal\",\n",
    "        \"lastname\"  : \"amin\",\n",
    "        \"course\"    : \"Artificial Intellegence\"\n",
    "    },\n",
    "    {\n",
    "        \"fisrtname\" : \"bilal\",\n",
    "        \"lastname\"  : \"ashraf\",\n",
    "        \"course\"    : \"Cloud Computing\"\n",
    "    },\n",
    "    {\n",
    "        \"fisrtname\" : \"salman\",\n",
    "        \"lastname\"  : \"rafique\",\n",
    "        \"course\"    : \"Blockchain\"\n",
    "    }\n",
    "]\n",
    "# print whole list\n",
    "\n",
    "for x in students:\n",
    "    print(x)\n",
    "    print(\"\\n\")"
   ]
  },
  {
   "cell_type": "markdown",
   "metadata": {},
   "source": [
    "# pick information out of a list of dictionaries\n"
   ]
  },
  {
   "cell_type": "code",
   "execution_count": 18,
   "metadata": {},
   "outputs": [
    {
     "name": "stdout",
     "output_type": "stream",
     "text": [
      "Artificial Intellegence\n"
     ]
    }
   ],
   "source": [
    "# print a particular value from a dictionary\n",
    "\n",
    "print(students[0][\"course\"])"
   ]
  },
  {
   "cell_type": "markdown",
   "metadata": {},
   "source": [
    "# How to append a new dictionary to a list of dictionaries\n"
   ]
  },
  {
   "cell_type": "code",
   "execution_count": 25,
   "metadata": {},
   "outputs": [
    {
     "name": "stdout",
     "output_type": "stream",
     "text": [
      "{'fisrtname': 'faisal', 'lastname': 'amin', 'course': 'Artificial Intellegence'}\n",
      "{'fisrtname': 'bilal', 'lastname': 'ashraf', 'course': 'Cloud Computing'}\n",
      "{'fisrtname': 'salman', 'lastname': 'rafique', 'course': 'Blockchain'}\n",
      "{'first name': 'faizan', 'last name': 'owais', 'course': 'IOT'}\n"
     ]
    }
   ],
   "source": [
    "# first of all you make a new dictionary \n",
    "\n",
    "new_dictionary = {\n",
    "    \"first name\" : \"faizan\",\n",
    "    \"last name\"  : \"owais\",\n",
    "    \"course\"     : \"IOT\",\n",
    "}\n",
    "\n",
    "students.append(new_dictionary)\n",
    "print(students[0])\n",
    "print(students[1])\n",
    "print(students[2])\n",
    "print(students[3])"
   ]
  },
  {
   "cell_type": "code",
   "execution_count": 27,
   "metadata": {},
   "outputs": [
    {
     "name": "stdout",
     "output_type": "stream",
     "text": [
      "8\n"
     ]
    }
   ],
   "source": [
    "# Check the length of the list of dictionaries\n",
    "a = len(students)\n",
    "print(a)"
   ]
  },
  {
   "cell_type": "code",
   "execution_count": null,
   "metadata": {},
   "outputs": [],
   "source": []
  }
 ],
 "metadata": {
  "kernelspec": {
   "display_name": "Python 3",
   "language": "python",
   "name": "python3"
  },
  "language_info": {
   "codemirror_mode": {
    "name": "ipython",
    "version": 3
   },
   "file_extension": ".py",
   "mimetype": "text/x-python",
   "name": "python",
   "nbconvert_exporter": "python",
   "pygments_lexer": "ipython3",
   "version": "3.7.3"
  }
 },
 "nbformat": 4,
 "nbformat_minor": 2
}
