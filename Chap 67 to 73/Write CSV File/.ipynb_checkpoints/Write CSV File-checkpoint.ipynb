{
 "cells": [
  {
   "cell_type": "markdown",
   "metadata": {},
   "source": [
    "# Write CSV file"
   ]
  },
  {
   "cell_type": "code",
   "execution_count": null,
   "metadata": {},
   "outputs": [],
   "source": [
    "# To write CSV file first of all we import the module of CSV\n",
    "\n",
    "import csv"
   ]
  },
  {
   "cell_type": "code",
   "execution_count": null,
   "metadata": {},
   "outputs": [],
   "source": [
    "# To write CSV file the syntax is same as normal txt file\n",
    "with open(\"Example.csv\" , \"w\") as f:\n",
    "    a = csv.writer(f)\n",
    "    a.writerow([\"a\" , \"b\" , \"c\"])\n",
    "    "
   ]
  },
  {
   "cell_type": "code",
   "execution_count": null,
   "metadata": {},
   "outputs": [],
   "source": [
    "# Write CSV file with user input\n",
    "\n",
    "user_input = input(\"Name the file Of csv: \")\n",
    "with open(user_input ,\"w\") as f:\n",
    "    a = csv.writer(f)\n",
    "    data_of_file = input(\"write data on it within list form so write first element\")\n",
    "    l1 = []\n",
    "    l1.append(data_of_file)\n",
    "    a.writerow(l1)\n",
    "    \n",
    "    "
   ]
  },
  {
   "cell_type": "code",
   "execution_count": null,
   "metadata": {},
   "outputs": [],
   "source": [
    "user_input = input(\"Name the file Of csv: \")\n",
    "with open(user_input , \"w\") as f:\n",
    "    a = csv.writer(f)\n",
    "    l1 = []\n",
    "    data_of_file = input(\"to start to append data plz write s\")\n",
    "    while data_of_file != \"q\":\n",
    "        data_of_file = input(\"write data on it within list form so write element or  q for quite\")\n",
    "        if data_of_file != \"q\":\n",
    "            l1.append(data_of_file)\n",
    "            a.writerow(l1)\n",
    "        else:\n",
    "            break\n",
    "print(l1)\n",
    "        \n",
    "    "
   ]
  },
  {
   "cell_type": "code",
   "execution_count": null,
   "metadata": {},
   "outputs": [],
   "source": [
    "with open(\"last\" , \"w\") as f:\n",
    "# Dekimiter is an optional argument which is used to seperate the calues in csv file by default the seperater is \",\"\n",
    "    a = csv.writer(f , delimiter = \"!\")\n",
    "    a.writerow([\"a\", \"b\"])"
   ]
  },
  {
   "cell_type": "code",
   "execution_count": null,
   "metadata": {},
   "outputs": [],
   "source": []
  }
 ],
 "metadata": {
  "kernelspec": {
   "display_name": "Python 3",
   "language": "python",
   "name": "python3"
  },
  "language_info": {
   "codemirror_mode": {
    "name": "ipython",
    "version": 3
   },
   "file_extension": ".py",
   "mimetype": "text/x-python",
   "name": "python",
   "nbconvert_exporter": "python",
   "pygments_lexer": "ipython3",
   "version": "3.7.3"
  }
 },
 "nbformat": 4,
 "nbformat_minor": 2
}
