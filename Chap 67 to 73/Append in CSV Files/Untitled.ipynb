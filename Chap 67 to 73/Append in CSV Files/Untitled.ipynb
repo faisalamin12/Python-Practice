{
 "cells": [
  {
   "cell_type": "markdown",
   "metadata": {},
   "source": [
    "# Append in CSV File"
   ]
  },
  {
   "cell_type": "code",
   "execution_count": null,
   "metadata": {},
   "outputs": [],
   "source": [
    "# First of all we create a file and write some text in it\n",
    "import csv\n",
    "\n",
    "with open(\"Example1\" , \"w\") as f:\n",
    "    a = csv.writer(f , delimiter = \"-\")\n",
    "    a.writerow([\"a\" , \"b\" , \"c\"])"
   ]
  },
  {
   "cell_type": "code",
   "execution_count": 3,
   "metadata": {},
   "outputs": [],
   "source": [
    "# If we want to add some text in it we open the file with append mode\n",
    "\n",
    "with open(\"Example1\", \"a\") as f:\n",
    "    a= csv.writer(f , delimiter = \"-\")\n",
    "    a.writerow([\"1\" , \"2\" , \"3\"])"
   ]
  },
  {
   "cell_type": "code",
   "execution_count": null,
   "metadata": {},
   "outputs": [],
   "source": []
  }
 ],
 "metadata": {
  "kernelspec": {
   "display_name": "Python 3",
   "language": "python",
   "name": "python3"
  },
  "language_info": {
   "codemirror_mode": {
    "name": "ipython",
    "version": 3
   },
   "file_extension": ".py",
   "mimetype": "text/x-python",
   "name": "python",
   "nbconvert_exporter": "python",
   "pygments_lexer": "ipython3",
   "version": "3.7.3"
  }
 },
 "nbformat": 4,
 "nbformat_minor": 2
}
